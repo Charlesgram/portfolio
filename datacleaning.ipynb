{
 "cells": [
  {
   "cell_type": "code",
   "execution_count": 1,
   "id": "e8e9b3eb-2feb-473e-a883-5864919c0a50",
   "metadata": {},
   "outputs": [],
   "source": [
    "import pandas as pd"
   ]
  },
  {
   "cell_type": "code",
   "execution_count": 5,
   "id": "709022b8-fc47-4c87-9134-10756ea94c61",
   "metadata": {},
   "outputs": [],
   "source": [
    "df = pd.read_excel(\"Data Cleaning with Coach Anietie.xlsx\")"
   ]
  },
  {
   "cell_type": "code",
   "execution_count": 335,
   "id": "9b4ea2e9-7bfb-4668-ab83-dc9b210f726f",
   "metadata": {},
   "outputs": [
    {
     "data": {
      "text/html": [
       "<div>\n",
       "<style scoped>\n",
       "    .dataframe tbody tr th:only-of-type {\n",
       "        vertical-align: middle;\n",
       "    }\n",
       "\n",
       "    .dataframe tbody tr th {\n",
       "        vertical-align: top;\n",
       "    }\n",
       "\n",
       "    .dataframe thead th {\n",
       "        text-align: right;\n",
       "    }\n",
       "</style>\n",
       "<table border=\"1\" class=\"dataframe\">\n",
       "  <thead>\n",
       "    <tr style=\"text-align: right;\">\n",
       "      <th></th>\n",
       "      <th>S/No</th>\n",
       "      <th>Gender</th>\n",
       "      <th>Age Range</th>\n",
       "      <th>Marital Status</th>\n",
       "      <th>State of Origin</th>\n",
       "    </tr>\n",
       "  </thead>\n",
       "  <tbody>\n",
       "    <tr>\n",
       "      <th>0</th>\n",
       "      <td>1</td>\n",
       "      <td>Female</td>\n",
       "      <td>35-40 years</td>\n",
       "      <td>Married</td>\n",
       "      <td>akwa ibom</td>\n",
       "    </tr>\n",
       "    <tr>\n",
       "      <th>1</th>\n",
       "      <td>2</td>\n",
       "      <td>Male</td>\n",
       "      <td>35-40 years</td>\n",
       "      <td>Married</td>\n",
       "      <td>river</td>\n",
       "    </tr>\n",
       "    <tr>\n",
       "      <th>2</th>\n",
       "      <td>3</td>\n",
       "      <td>Female</td>\n",
       "      <td>25-30 years</td>\n",
       "      <td>Single</td>\n",
       "      <td>akwa ibom</td>\n",
       "    </tr>\n",
       "    <tr>\n",
       "      <th>3</th>\n",
       "      <td>4</td>\n",
       "      <td>Male</td>\n",
       "      <td>25-30 years</td>\n",
       "      <td>Single</td>\n",
       "      <td>akwa ibom</td>\n",
       "    </tr>\n",
       "    <tr>\n",
       "      <th>4</th>\n",
       "      <td>5</td>\n",
       "      <td>Male</td>\n",
       "      <td>30-35 years</td>\n",
       "      <td>Single</td>\n",
       "      <td>akwa ibom</td>\n",
       "    </tr>\n",
       "    <tr>\n",
       "      <th>...</th>\n",
       "      <td>...</td>\n",
       "      <td>...</td>\n",
       "      <td>...</td>\n",
       "      <td>...</td>\n",
       "      <td>...</td>\n",
       "    </tr>\n",
       "    <tr>\n",
       "      <th>406</th>\n",
       "      <td>407</td>\n",
       "      <td>Female</td>\n",
       "      <td>35-40 years</td>\n",
       "      <td>Married</td>\n",
       "      <td>benue</td>\n",
       "    </tr>\n",
       "    <tr>\n",
       "      <th>407</th>\n",
       "      <td>408</td>\n",
       "      <td>Male</td>\n",
       "      <td>30-35 years</td>\n",
       "      <td>Single</td>\n",
       "      <td>benue</td>\n",
       "    </tr>\n",
       "    <tr>\n",
       "      <th>408</th>\n",
       "      <td>409</td>\n",
       "      <td>Male</td>\n",
       "      <td>20-25 years</td>\n",
       "      <td>Single</td>\n",
       "      <td>benue</td>\n",
       "    </tr>\n",
       "    <tr>\n",
       "      <th>409</th>\n",
       "      <td>410</td>\n",
       "      <td>Female</td>\n",
       "      <td>25-30 years</td>\n",
       "      <td>Single</td>\n",
       "      <td>kaduna</td>\n",
       "    </tr>\n",
       "    <tr>\n",
       "      <th>410</th>\n",
       "      <td>411</td>\n",
       "      <td>Female</td>\n",
       "      <td>25-30 years</td>\n",
       "      <td>Single</td>\n",
       "      <td>kaduna</td>\n",
       "    </tr>\n",
       "  </tbody>\n",
       "</table>\n",
       "<p>411 rows × 5 columns</p>\n",
       "</div>"
      ],
      "text/plain": [
       "     S/No  Gender    Age Range Marital Status State of Origin\n",
       "0       1  Female  35-40 years        Married       akwa ibom\n",
       "1       2    Male  35-40 years        Married           river\n",
       "2       3  Female  25-30 years         Single       akwa ibom\n",
       "3       4    Male  25-30 years         Single       akwa ibom\n",
       "4       5    Male  30-35 years         Single       akwa ibom\n",
       "..    ...     ...          ...            ...             ...\n",
       "406   407  Female  35-40 years        Married           benue\n",
       "407   408    Male  30-35 years         Single           benue\n",
       "408   409    Male  20-25 years         Single           benue\n",
       "409   410  Female  25-30 years         Single          kaduna\n",
       "410   411  Female  25-30 years         Single          kaduna\n",
       "\n",
       "[411 rows x 5 columns]"
      ]
     },
     "execution_count": 335,
     "metadata": {},
     "output_type": "execute_result"
    }
   ],
   "source": [
    "df"
   ]
  },
  {
   "cell_type": "code",
   "execution_count": 399,
   "id": "3c668774-2366-4d3b-b711-241ce3971eaf",
   "metadata": {},
   "outputs": [
    {
     "data": {
      "text/plain": [
       "array(['akwa ibom', 'rivers', 'anambra', 'ekiti', 'kogi', 'oyo', 'delta',\n",
       "       'kwara', 'lagos', 'imo', 'enugu', 'benue', 'cross rivers', 'osun',\n",
       "       'plateau', 'kaduna', 'ogun', 'ebonyi', 'fct abuja', 'kano',\n",
       "       'adamawa', 'nasarawa', 'bayelsa', 'niger', 'ebony', 'zamfara'],\n",
       "      dtype=object)"
      ]
     },
     "execution_count": 399,
     "metadata": {},
     "output_type": "execute_result"
    }
   ],
   "source": [
    "df['State of Origin'].unique()"
   ]
  },
  {
   "cell_type": "code",
   "execution_count": 397,
   "id": "c4d0cd00-142f-4a57-9542-5b34eb4ff909",
   "metadata": {},
   "outputs": [],
   "source": [
    "df['State of Origin'] = df['State of Origin'].str.replace('zamfararararaa','z').str.replace('zamfarar','zamfara').str.replace('river','rivers')"
   ]
  },
  {
   "cell_type": "code",
   "execution_count": 375,
   "id": "3b167dbd-54f8-447f-8d28-11d3eb1a9358",
   "metadata": {},
   "outputs": [],
   "source": [
    "df['State of Origin'] = df['State of Origin'].str.strip().str.lower().str.replace('oghenevwedefay@gmail.com','lagos').str.replace('united kingdom','lagos').str.replace('cross rover','cross river').str.strip('state').str.replace('bayel','bayelsa').str.replace('nasaraw','nasarawa').str.replace('kwa-ibom','akwa-ibom').str.replace('kiti','ekiti').str.replace('bony','ebony').str.replace( 'bia state.','abia').str.replace('nugu','enugu').str.replace('ogun','ogun').str.replace('lago','lagos').str.replace('kwar','kwara').str.replace('do','ondo').str.replace('ononononondo','akwa ibom').str.replace('kogi -','kogi').str.replace('damaw','adamawa').str.replace(\"'ogun\", 'ogun').str.replace('nigeri','osun').str.replace('fct abuj','fct abuja').str.replace('ononakwa ibom','akwa ibom').str.replace('onakwa ibom','akwa ibom').str.replace('kwa ibpm','akwa ibom').str.replace('kwa ibom','akwa ibom').str.replace('akwa-ibom','akwa ibom').str.replace('benu','benue').str.replace('bi','benue').str.replace('rab','lagos').str.replace('kebbenue','benue').str.replace('kadun','kaduna').str.replace('del','delta').str.replace('ogun, ogun','ogun').str.replace('nan','fct abuja').str.replace('nambr','anambra').str.replace('zamfa','zamfara').str.replace('zamfaraar','zamfara')"
   ]
  },
  {
   "cell_type": "code",
   "execution_count": 317,
   "id": "83327760-f57d-4023-ba7c-5a6a5d893d35",
   "metadata": {},
   "outputs": [
    {
     "data": {
      "text/plain": [
       "S/No               0\n",
       "Gender             0\n",
       "Age Range?         0\n",
       "Marital Status     0\n",
       "State of Origin    0\n",
       "dtype: int64"
      ]
     },
     "execution_count": 317,
     "metadata": {},
     "output_type": "execute_result"
    }
   ],
   "source": [
    "df.isnull().sum()"
   ]
  },
  {
   "cell_type": "code",
   "execution_count": 305,
   "id": "c70bee94-5a08-4f39-a4b0-1fbfb767e840",
   "metadata": {},
   "outputs": [],
   "source": [
    "mode = df['State of Origin'].mode()[0]"
   ]
  },
  {
   "cell_type": "code",
   "execution_count": 307,
   "id": "9b461db6-c46b-40ed-97aa-c7e3e3161cff",
   "metadata": {},
   "outputs": [],
   "source": [
    "df['State of Origin'] = df['State of Origin'].fillna(mode)"
   ]
  },
  {
   "cell_type": "code",
   "execution_count": 313,
   "id": "234c11da-7349-4806-824d-1c6c028681c1",
   "metadata": {},
   "outputs": [],
   "source": [
    "mode2 = df['Marital Status'].mode()[0]"
   ]
  },
  {
   "cell_type": "code",
   "execution_count": 315,
   "id": "179c5dc5-7ee1-46bd-800d-4c28b96416d2",
   "metadata": {},
   "outputs": [],
   "source": [
    "df['Marital Status'] = df['Marital Status'].fillna(mode)"
   ]
  },
  {
   "cell_type": "code",
   "execution_count": 333,
   "id": "4333f5b7-955f-407d-b81c-76f3193328fc",
   "metadata": {},
   "outputs": [],
   "source": [
    " df.rename(columns={'Age Range?':'Age Range'}, inplace = True)"
   ]
  }
 ],
 "metadata": {
  "kernelspec": {
   "display_name": "Python [conda env:base] *",
   "language": "python",
   "name": "conda-base-py"
  },
  "language_info": {
   "codemirror_mode": {
    "name": "ipython",
    "version": 3
   },
   "file_extension": ".py",
   "mimetype": "text/x-python",
   "name": "python",
   "nbconvert_exporter": "python",
   "pygments_lexer": "ipython3",
   "version": "3.12.7"
  }
 },
 "nbformat": 4,
 "nbformat_minor": 5
}
