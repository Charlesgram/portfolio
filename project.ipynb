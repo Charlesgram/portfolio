{
 "cells": [
  {
   "cell_type": "code",
   "execution_count": 1,
   "id": "0b03d54c-257b-4574-9de1-aaf2dec9acc4",
   "metadata": {},
   "outputs": [],
   "source": [
    "import pandas as pd\n",
    "import matplotlib.pyplot as plt\n",
    "import seaborn as sns"
   ]
  },
  {
   "cell_type": "code",
   "execution_count": 17,
   "id": "79437917-68bf-4f97-b387-6846d1f00aa0",
   "metadata": {},
   "outputs": [],
   "source": [
    "df = pd.read_csv('titanic.csv')"
   ]
  },
  {
   "cell_type": "code",
   "execution_count": 111,
   "id": "71fa4fe1-615b-4698-8b31-14b4c02a77d1",
   "metadata": {},
   "outputs": [
    {
     "data": {
      "text/html": [
       "<div>\n",
       "<style scoped>\n",
       "    .dataframe tbody tr th:only-of-type {\n",
       "        vertical-align: middle;\n",
       "    }\n",
       "\n",
       "    .dataframe tbody tr th {\n",
       "        vertical-align: top;\n",
       "    }\n",
       "\n",
       "    .dataframe thead th {\n",
       "        text-align: right;\n",
       "    }\n",
       "</style>\n",
       "<table border=\"1\" class=\"dataframe\">\n",
       "  <thead>\n",
       "    <tr style=\"text-align: right;\">\n",
       "      <th></th>\n",
       "      <th>pclass</th>\n",
       "      <th>survived</th>\n",
       "      <th>name</th>\n",
       "      <th>sex</th>\n",
       "      <th>age</th>\n",
       "      <th>sibsp</th>\n",
       "      <th>parch</th>\n",
       "      <th>ticket</th>\n",
       "      <th>fare</th>\n",
       "      <th>cabin</th>\n",
       "      <th>embarked</th>\n",
       "      <th>boat</th>\n",
       "      <th>body</th>\n",
       "      <th>home.dest</th>\n",
       "      <th>Age_group</th>\n",
       "    </tr>\n",
       "  </thead>\n",
       "  <tbody>\n",
       "    <tr>\n",
       "      <th>0</th>\n",
       "      <td>1</td>\n",
       "      <td>1</td>\n",
       "      <td>Allen, Miss. Elisabeth Walton</td>\n",
       "      <td>female</td>\n",
       "      <td>29.0000</td>\n",
       "      <td>0</td>\n",
       "      <td>0</td>\n",
       "      <td>24160</td>\n",
       "      <td>211.3375</td>\n",
       "      <td>B5</td>\n",
       "      <td>S</td>\n",
       "      <td>2</td>\n",
       "      <td>?</td>\n",
       "      <td>St Louis, MO</td>\n",
       "      <td>21-30</td>\n",
       "    </tr>\n",
       "    <tr>\n",
       "      <th>1</th>\n",
       "      <td>1</td>\n",
       "      <td>1</td>\n",
       "      <td>Allison, Master. Hudson Trevor</td>\n",
       "      <td>male</td>\n",
       "      <td>0.9167</td>\n",
       "      <td>1</td>\n",
       "      <td>2</td>\n",
       "      <td>113781</td>\n",
       "      <td>151.5500</td>\n",
       "      <td>C22 C26</td>\n",
       "      <td>S</td>\n",
       "      <td>11</td>\n",
       "      <td>?</td>\n",
       "      <td>Montreal, PQ / Chesterville, ON</td>\n",
       "      <td>0-10</td>\n",
       "    </tr>\n",
       "    <tr>\n",
       "      <th>2</th>\n",
       "      <td>1</td>\n",
       "      <td>0</td>\n",
       "      <td>Allison, Miss. Helen Loraine</td>\n",
       "      <td>female</td>\n",
       "      <td>2.0000</td>\n",
       "      <td>1</td>\n",
       "      <td>2</td>\n",
       "      <td>113781</td>\n",
       "      <td>151.5500</td>\n",
       "      <td>C22 C26</td>\n",
       "      <td>S</td>\n",
       "      <td>?</td>\n",
       "      <td>?</td>\n",
       "      <td>Montreal, PQ / Chesterville, ON</td>\n",
       "      <td>0-10</td>\n",
       "    </tr>\n",
       "    <tr>\n",
       "      <th>3</th>\n",
       "      <td>1</td>\n",
       "      <td>0</td>\n",
       "      <td>Allison, Mr. Hudson Joshua Creighton</td>\n",
       "      <td>male</td>\n",
       "      <td>30.0000</td>\n",
       "      <td>1</td>\n",
       "      <td>2</td>\n",
       "      <td>113781</td>\n",
       "      <td>151.5500</td>\n",
       "      <td>C22 C26</td>\n",
       "      <td>S</td>\n",
       "      <td>?</td>\n",
       "      <td>135</td>\n",
       "      <td>Montreal, PQ / Chesterville, ON</td>\n",
       "      <td>31-40</td>\n",
       "    </tr>\n",
       "    <tr>\n",
       "      <th>4</th>\n",
       "      <td>1</td>\n",
       "      <td>0</td>\n",
       "      <td>Allison, Mrs. Hudson J C (Bessie Waldo Daniels)</td>\n",
       "      <td>female</td>\n",
       "      <td>25.0000</td>\n",
       "      <td>1</td>\n",
       "      <td>2</td>\n",
       "      <td>113781</td>\n",
       "      <td>151.5500</td>\n",
       "      <td>C22 C26</td>\n",
       "      <td>S</td>\n",
       "      <td>?</td>\n",
       "      <td>?</td>\n",
       "      <td>Montreal, PQ / Chesterville, ON</td>\n",
       "      <td>21-30</td>\n",
       "    </tr>\n",
       "    <tr>\n",
       "      <th>5</th>\n",
       "      <td>1</td>\n",
       "      <td>1</td>\n",
       "      <td>Anderson, Mr. Harry</td>\n",
       "      <td>male</td>\n",
       "      <td>48.0000</td>\n",
       "      <td>0</td>\n",
       "      <td>0</td>\n",
       "      <td>19952</td>\n",
       "      <td>26.5500</td>\n",
       "      <td>E12</td>\n",
       "      <td>S</td>\n",
       "      <td>3</td>\n",
       "      <td>?</td>\n",
       "      <td>New York, NY</td>\n",
       "      <td>41-50</td>\n",
       "    </tr>\n",
       "    <tr>\n",
       "      <th>6</th>\n",
       "      <td>1</td>\n",
       "      <td>1</td>\n",
       "      <td>Andrews, Miss. Kornelia Theodosia</td>\n",
       "      <td>female</td>\n",
       "      <td>63.0000</td>\n",
       "      <td>1</td>\n",
       "      <td>0</td>\n",
       "      <td>13502</td>\n",
       "      <td>77.9583</td>\n",
       "      <td>D7</td>\n",
       "      <td>S</td>\n",
       "      <td>10</td>\n",
       "      <td>?</td>\n",
       "      <td>Hudson, NY</td>\n",
       "      <td>61-70</td>\n",
       "    </tr>\n",
       "    <tr>\n",
       "      <th>7</th>\n",
       "      <td>1</td>\n",
       "      <td>0</td>\n",
       "      <td>Andrews, Mr. Thomas Jr</td>\n",
       "      <td>male</td>\n",
       "      <td>39.0000</td>\n",
       "      <td>0</td>\n",
       "      <td>0</td>\n",
       "      <td>112050</td>\n",
       "      <td>0.0000</td>\n",
       "      <td>A36</td>\n",
       "      <td>S</td>\n",
       "      <td>?</td>\n",
       "      <td>?</td>\n",
       "      <td>Belfast, NI</td>\n",
       "      <td>31-40</td>\n",
       "    </tr>\n",
       "    <tr>\n",
       "      <th>8</th>\n",
       "      <td>1</td>\n",
       "      <td>1</td>\n",
       "      <td>Appleton, Mrs. Edward Dale (Charlotte Lamson)</td>\n",
       "      <td>female</td>\n",
       "      <td>53.0000</td>\n",
       "      <td>2</td>\n",
       "      <td>0</td>\n",
       "      <td>11769</td>\n",
       "      <td>51.4792</td>\n",
       "      <td>C101</td>\n",
       "      <td>S</td>\n",
       "      <td>D</td>\n",
       "      <td>?</td>\n",
       "      <td>Bayside, Queens, NY</td>\n",
       "      <td>51-60</td>\n",
       "    </tr>\n",
       "  </tbody>\n",
       "</table>\n",
       "</div>"
      ],
      "text/plain": [
       "   pclass  survived                                             name     sex  \\\n",
       "0       1         1                    Allen, Miss. Elisabeth Walton  female   \n",
       "1       1         1                   Allison, Master. Hudson Trevor    male   \n",
       "2       1         0                     Allison, Miss. Helen Loraine  female   \n",
       "3       1         0             Allison, Mr. Hudson Joshua Creighton    male   \n",
       "4       1         0  Allison, Mrs. Hudson J C (Bessie Waldo Daniels)  female   \n",
       "5       1         1                              Anderson, Mr. Harry    male   \n",
       "6       1         1                Andrews, Miss. Kornelia Theodosia  female   \n",
       "7       1         0                           Andrews, Mr. Thomas Jr    male   \n",
       "8       1         1    Appleton, Mrs. Edward Dale (Charlotte Lamson)  female   \n",
       "\n",
       "       age  sibsp  parch  ticket      fare    cabin embarked boat body  \\\n",
       "0  29.0000      0      0   24160  211.3375       B5        S    2    ?   \n",
       "1   0.9167      1      2  113781  151.5500  C22 C26        S   11    ?   \n",
       "2   2.0000      1      2  113781  151.5500  C22 C26        S    ?    ?   \n",
       "3  30.0000      1      2  113781  151.5500  C22 C26        S    ?  135   \n",
       "4  25.0000      1      2  113781  151.5500  C22 C26        S    ?    ?   \n",
       "5  48.0000      0      0   19952   26.5500      E12        S    3    ?   \n",
       "6  63.0000      1      0   13502   77.9583       D7        S   10    ?   \n",
       "7  39.0000      0      0  112050    0.0000      A36        S    ?    ?   \n",
       "8  53.0000      2      0   11769   51.4792     C101        S    D    ?   \n",
       "\n",
       "                         home.dest Age_group  \n",
       "0                     St Louis, MO     21-30  \n",
       "1  Montreal, PQ / Chesterville, ON      0-10  \n",
       "2  Montreal, PQ / Chesterville, ON      0-10  \n",
       "3  Montreal, PQ / Chesterville, ON     31-40  \n",
       "4  Montreal, PQ / Chesterville, ON     21-30  \n",
       "5                     New York, NY     41-50  \n",
       "6                       Hudson, NY     61-70  \n",
       "7                      Belfast, NI     31-40  \n",
       "8              Bayside, Queens, NY     51-60  "
      ]
     },
     "execution_count": 111,
     "metadata": {},
     "output_type": "execute_result"
    }
   ],
   "source": [
    "df.head(9)"
   ]
  },
  {
   "cell_type": "code",
   "execution_count": 87,
   "id": "bba464d8-c729-4023-8841-5dbfb508c403",
   "metadata": {},
   "outputs": [
    {
     "name": "stdout",
     "output_type": "stream",
     "text": [
      "<class 'pandas.core.frame.DataFrame'>\n",
      "RangeIndex: 1309 entries, 0 to 1308\n",
      "Data columns (total 14 columns):\n",
      " #   Column     Non-Null Count  Dtype  \n",
      "---  ------     --------------  -----  \n",
      " 0   pclass     1309 non-null   int64  \n",
      " 1   survived   1309 non-null   int64  \n",
      " 2   name       1309 non-null   object \n",
      " 3   sex        1309 non-null   object \n",
      " 4   age        1309 non-null   float64\n",
      " 5   sibsp      1309 non-null   int64  \n",
      " 6   parch      1309 non-null   int64  \n",
      " 7   ticket     1309 non-null   object \n",
      " 8   fare       1309 non-null   float64\n",
      " 9   cabin      1309 non-null   object \n",
      " 10  embarked   1309 non-null   object \n",
      " 11  boat       1309 non-null   object \n",
      " 12  body       1309 non-null   object \n",
      " 13  home.dest  1309 non-null   object \n",
      "dtypes: float64(2), int64(4), object(8)\n",
      "memory usage: 143.3+ KB\n"
     ]
    }
   ],
   "source": [
    "df.info()"
   ]
  },
  {
   "cell_type": "code",
   "execution_count": null,
   "id": "05255f6c-2500-412e-9530-047268148438",
   "metadata": {},
   "outputs": [],
   "source": [
    "## change age to int/float"
   ]
  },
  {
   "cell_type": "code",
   "execution_count": 81,
   "id": "546f4352-3de1-4f9e-8e5a-afd2a9723ffd",
   "metadata": {},
   "outputs": [],
   "source": [
    "df['age'] = pd.to_numeric(df.age , errors = 'coerce')"
   ]
  },
  {
   "cell_type": "code",
   "execution_count": 61,
   "id": "b65a24f4-84dd-4968-8d53-8142baf49258",
   "metadata": {},
   "outputs": [],
   "source": [
    "df['age']=df['age'].fillna('29')"
   ]
  },
  {
   "cell_type": "code",
   "execution_count": null,
   "id": "8b0ddf18-6596-4e12-a324-331900f29e3f",
   "metadata": {},
   "outputs": [],
   "source": [
    "## change fare to int/float"
   ]
  },
  {
   "cell_type": "code",
   "execution_count": 85,
   "id": "0201a6f6-1213-47af-9a66-fc6a4eca0e98",
   "metadata": {},
   "outputs": [],
   "source": [
    "df['fare'] = pd.to_numeric(df.fare,errors = 'coerce')"
   ]
  },
  {
   "cell_type": "code",
   "execution_count": 65,
   "id": "735919a3-e471-41bc-ac77-b39fddf84cc0",
   "metadata": {},
   "outputs": [],
   "source": [
    "df['fare']=df['fare'].fillna('33')"
   ]
  },
  {
   "cell_type": "code",
   "execution_count": null,
   "id": "82949175-e2ea-4d61-8b7c-4ea84f46096d",
   "metadata": {},
   "outputs": [],
   "source": [
    "## how many survived do we have from each passengers class"
   ]
  },
  {
   "cell_type": "code",
   "execution_count": 69,
   "id": "d98709d9-f7b5-4fd1-8c42-5885b93946aa",
   "metadata": {},
   "outputs": [
    {
     "data": {
      "text/plain": [
       "pclass\n",
       "1    200\n",
       "2    119\n",
       "3    181\n",
       "Name: survived, dtype: int64"
      ]
     },
     "execution_count": 69,
     "metadata": {},
     "output_type": "execute_result"
    }
   ],
   "source": [
    "df.groupby('pclass')['survived'].sum()"
   ]
  },
  {
   "cell_type": "code",
   "execution_count": null,
   "id": "438fbede-36a7-4e39-a736-7c80c987bf31",
   "metadata": {},
   "outputs": [],
   "source": [
    "## how many people were in each passenger class"
   ]
  },
  {
   "cell_type": "code",
   "execution_count": 71,
   "id": "f22225cc-ba07-42d9-b1b7-f0cfd71789f7",
   "metadata": {},
   "outputs": [
    {
     "data": {
      "text/plain": [
       "pclass\n",
       "3    709\n",
       "1    323\n",
       "2    277\n",
       "Name: count, dtype: int64"
      ]
     },
     "execution_count": 71,
     "metadata": {},
     "output_type": "execute_result"
    }
   ],
   "source": [
    "df['pclass'].value_counts()"
   ]
  },
  {
   "cell_type": "code",
   "execution_count": null,
   "id": "7c5dac8f-5c44-4638-9ea7-819cd1b3d5d8",
   "metadata": {},
   "outputs": [],
   "source": [
    "## how many males and female were on the boat and how many survived"
   ]
  },
  {
   "cell_type": "code",
   "execution_count": 73,
   "id": "4c92595f-7e2d-4d68-b4a5-ac4f0640aa35",
   "metadata": {},
   "outputs": [
    {
     "data": {
      "text/plain": [
       "sex\n",
       "male      843\n",
       "female    466\n",
       "Name: count, dtype: int64"
      ]
     },
     "execution_count": 73,
     "metadata": {},
     "output_type": "execute_result"
    }
   ],
   "source": [
    "df['sex'].value_counts()"
   ]
  },
  {
   "cell_type": "code",
   "execution_count": 75,
   "id": "2da6f74e-d29a-49fa-a0b8-502a074791e4",
   "metadata": {},
   "outputs": [
    {
     "data": {
      "text/plain": [
       "sex\n",
       "female    339\n",
       "male      161\n",
       "Name: survived, dtype: int64"
      ]
     },
     "execution_count": 75,
     "metadata": {},
     "output_type": "execute_result"
    }
   ],
   "source": [
    "df.groupby('sex')['survived'].sum()"
   ]
  },
  {
   "cell_type": "code",
   "execution_count": null,
   "id": "a7ff7ad4-05d5-40de-84b9-5f76f7bd405d",
   "metadata": {},
   "outputs": [],
   "source": [
    "## histogram distribution of passengers age"
   ]
  },
  {
   "cell_type": "code",
   "execution_count": 89,
   "id": "99db9619-2ffe-47ce-adaa-59bbec7dfda9",
   "metadata": {},
   "outputs": [
    {
     "data": {
      "image/png": "[encoded data removed]",
      "text/plain": [
       "<Figure size 640x480 with 1 Axes>"
      ]
     },
     "metadata": {},
     "output_type": "display_data"
    }
   ],
   "source": [
    "df['age'].hist(bins = 30, edgecolor = 'black')\n",
    "plt.xlabel('age')\n",
    "plt.ylabel('Number of Passengers')\n",
    "plt.title('Histogram of passengers age on the titanic');"
   ]
  },
  {
   "cell_type": "code",
   "execution_count": null,
   "id": "94acc0b6-7cbc-4f2f-8240-3d3bb691a1ca",
   "metadata": {},
   "outputs": [],
   "source": [
    "## age group analysis"
   ]
  },
  {
   "cell_type": "code",
   "execution_count": 107,
   "id": "d5ee7232-0b3e-49ea-9bb5-d9c1901e5ab5",
   "metadata": {},
   "outputs": [],
   "source": [
    "bins = [0,10,20,30,40,50,60,70,80]\n",
    "\n",
    "labels=['0-10','11-20','21-30','31-40','41-50','51-60','61-70','71-80']"
   ]
  },
  {
   "cell_type": "code",
   "execution_count": 109,
   "id": "9af13224-c9cc-4264-96ed-08c7e1460f8c",
   "metadata": {},
   "outputs": [],
   "source": [
    "df['Age_group'] = pd.cut(df['age'], bins=bins,labels=labels, right=False)"
   ]
  },
  {
   "cell_type": "code",
   "execution_count": null,
   "id": "89a388c8-3555-4daa-839b-7ffe7aeebb72",
   "metadata": {},
   "outputs": [],
   "source": [
    "## comparison btw fare and pclass"
   ]
  },
  {
   "cell_type": "code",
   "execution_count": 91,
   "id": "ed932fda-9103-4372-bf8e-5de8878c8e9d",
   "metadata": {},
   "outputs": [
    {
     "data": {
      "text/html": [
       "<div>\n",
       "<style scoped>\n",
       "    .dataframe tbody tr th:only-of-type {\n",
       "        vertical-align: middle;\n",
       "    }\n",
       "\n",
       "    .dataframe tbody tr th {\n",
       "        vertical-align: top;\n",
       "    }\n",
       "\n",
       "    .dataframe thead th {\n",
       "        text-align: right;\n",
       "    }\n",
       "</style>\n",
       "<table border=\"1\" class=\"dataframe\">\n",
       "  <thead>\n",
       "    <tr style=\"text-align: right;\">\n",
       "      <th></th>\n",
       "      <th>count</th>\n",
       "      <th>mean</th>\n",
       "      <th>std</th>\n",
       "      <th>min</th>\n",
       "      <th>25%</th>\n",
       "      <th>50%</th>\n",
       "      <th>75%</th>\n",
       "      <th>max</th>\n",
       "    </tr>\n",
       "    <tr>\n",
       "      <th>pclass</th>\n",
       "      <th></th>\n",
       "      <th></th>\n",
       "      <th></th>\n",
       "      <th></th>\n",
       "      <th></th>\n",
       "      <th></th>\n",
       "      <th></th>\n",
       "      <th></th>\n",
       "    </tr>\n",
       "  </thead>\n",
       "  <tbody>\n",
       "    <tr>\n",
       "      <th>1</th>\n",
       "      <td>323.0</td>\n",
       "      <td>87.508992</td>\n",
       "      <td>80.447178</td>\n",
       "      <td>0.0</td>\n",
       "      <td>30.6958</td>\n",
       "      <td>60.0000</td>\n",
       "      <td>107.6625</td>\n",
       "      <td>512.3292</td>\n",
       "    </tr>\n",
       "    <tr>\n",
       "      <th>2</th>\n",
       "      <td>277.0</td>\n",
       "      <td>21.179196</td>\n",
       "      <td>13.607122</td>\n",
       "      <td>0.0</td>\n",
       "      <td>13.0000</td>\n",
       "      <td>15.0458</td>\n",
       "      <td>26.0000</td>\n",
       "      <td>73.5000</td>\n",
       "    </tr>\n",
       "    <tr>\n",
       "      <th>3</th>\n",
       "      <td>709.0</td>\n",
       "      <td>13.330670</td>\n",
       "      <td>11.510034</td>\n",
       "      <td>0.0</td>\n",
       "      <td>7.7500</td>\n",
       "      <td>8.0500</td>\n",
       "      <td>15.2458</td>\n",
       "      <td>69.5500</td>\n",
       "    </tr>\n",
       "  </tbody>\n",
       "</table>\n",
       "</div>"
      ],
      "text/plain": [
       "        count       mean        std  min      25%      50%       75%       max\n",
       "pclass                                                                        \n",
       "1       323.0  87.508992  80.447178  0.0  30.6958  60.0000  107.6625  512.3292\n",
       "2       277.0  21.179196  13.607122  0.0  13.0000  15.0458   26.0000   73.5000\n",
       "3       709.0  13.330670  11.510034  0.0   7.7500   8.0500   15.2458   69.5500"
      ]
     },
     "execution_count": 91,
     "metadata": {},
     "output_type": "execute_result"
    }
   ],
   "source": [
    "df.groupby('pclass')['fare'].describe()"
   ]
  },
  {
   "cell_type": "code",
   "execution_count": 93,
   "id": "a6ca099d-a688-4427-9bf6-0478d89b7fe7",
   "metadata": {},
   "outputs": [
    {
     "data": {
      "image/png": "[encoded data removed]",
      "text/plain": [
       "<Figure size 640x480 with 1 Axes>"
      ]
     },
     "metadata": {},
     "output_type": "display_data"
    }
   ],
   "source": [
    "sns.barplot(x='pclass', y='fare',data=df)\n",
    "plt.title('Fare Distribution by passenger Class');"
   ]
  },
  {
   "cell_type": "code",
   "execution_count": null,
   "id": "e6eca017-2220-4cf6-ad23-d3fbe00ed7fa",
   "metadata": {},
   "outputs": [],
   "source": [
    "## 1st class has higher fares \n",
    "## 2nd class has moderate fares \n",
    "## 3rd class has lower fares"
   ]
  }
 ],
 "metadata": {
  "kernelspec": {
   "display_name": "Python [conda env:base] *",
   "language": "python",
   "name": "conda-base-py"
  },
  "language_info": {
   "codemirror_mode": {
    "name": "ipython",
    "version": 3
   },
   "file_extension": ".py",
   "mimetype": "text/x-python",
   "name": "python",
   "nbconvert_exporter": "python",
   "pygments_lexer": "ipython3",
   "version": "3.12.7"
  }
 },
 "nbformat": 4,
 "nbformat_minor": 5
}
